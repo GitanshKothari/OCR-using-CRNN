{
  "cells": [
    {
      "cell_type": "markdown",
      "metadata": {
        "id": "nnMtQV3CnJFF"
      },
      "source": [
        "#### Import Libraries"
      ]
    },
    {
      "cell_type": "code",
      "execution_count": 29,
      "metadata": {
        "id": "XTCirxlJnIjV"
      },
      "outputs": [],
      "source": [
        "import cv2\n",
        "import matplotlib.pyplot as plt\n",
        "import os\n",
        "import csv\n",
        "\n",
        "import numpy as np\n",
        "import time\n",
        "import torch\n",
        "import torch.nn as nn\n",
        "import torch.nn.functional as F\n",
        "import torch.optim as optim\n",
        "import torchvision\n",
        "from torch.utils.data.sampler import SubsetRandomSampler\n",
        "import torchvision.transforms as transforms\n",
        "import shutil\n",
        "from torchvision import models\n",
        "# !pip install torchinfo\n",
        "# from torchinfo import summary\n",
        "from torchvision.models import resnet18\n",
        "import math\n",
        "from difflib import SequenceMatcher"
      ]
    },
    {
      "cell_type": "code",
      "source": [
        "# check if we are using gpu or cpu\n",
        "device = torch.device(\"cuda:0\" if torch.cuda.is_available() else \"cpu\")\n",
        "print(device)"
      ],
      "metadata": {
        "id": "pasc_9SGOjvJ",
        "colab": {
          "base_uri": "https://localhost:8080/"
        },
        "outputId": "1c5b3f80-79c9-40d9-e25c-187b7e697ff6"
      },
      "execution_count": 30,
      "outputs": [
        {
          "output_type": "stream",
          "name": "stdout",
          "text": [
            "cuda:0\n"
          ]
        }
      ]
    },
    {
      "cell_type": "markdown",
      "metadata": {
        "id": "h7c5_UmjnEa-"
      },
      "source": [
        "#### Data Fetching"
      ]
    },
    {
      "cell_type": "code",
      "execution_count": null,
      "metadata": {
        "id": "9M9ltQaCnEa_"
      },
      "outputs": [],
      "source": [
        "# downloading the iam-handwriting-word-database\n",
        "# which can be found here https://www.kaggle.com/datasets/nibinv23/iam-handwriting-word-database\n",
        "\n",
        "!rm -r ~/.kaggle\n",
        "!mkdir ~/.kaggle\n",
        "!mv ./kaggle.json ~/.kaggle/\n",
        "!chmod 600 ~/.kaggle/kaggle.json\n",
        "\n",
        "!kaggle datasets download -d nibinv23/iam-handwriting-word-database\n",
        "os.mkdir(\"/content/dataset\")\n",
        "!unzip /content/iam-handwriting-word-database.zip -d /content/dataset"
      ]
    },
    {
      "cell_type": "code",
      "source": [
        "MIN_LABEL_LENGTH = 3\n",
        "MAX_LABEL_LENGTH = 9\n",
        "\n",
        "raw = list()\n",
        "for i, line in enumerate(open(\"/content/dataset/words_new.txt\")):\n",
        "  if i < 19: continue # commented lines - need to ignore them\n",
        "  line_array = line.split(\" \")\n",
        "  path = line_array[0] # gives the path\n",
        "  status = line_array[1] # gives the status of the file\n",
        "  label = line_array[-1] # gives the true label of the image\n",
        "  if status == \"ok\":\n",
        "    label = label[:-1]\n",
        "\n",
        "    #only keep labels that are of length 3 - 9\n",
        "    if len(label) < MIN_LABEL_LENGTH or len(label) > MAX_LABEL_LENGTH: continue\n",
        "\n",
        "    #only keep lables that dont have any special characters\n",
        "    special = any(not c.isalpha() for c in label)\n",
        "    if not special:\n",
        "      example = (path, label)\n",
        "      raw.append(example)"
      ],
      "metadata": {
        "id": "gnAZkaD9Jr2V"
      },
      "execution_count": 32,
      "outputs": []
    },
    {
      "cell_type": "code",
      "source": [
        "# Unknown Character: 00\n",
        "# Block Letters: 01-26\n",
        "# Small Letters: 27-52\n",
        "\n",
        "def encode_label(label):\n",
        "  #convert each alphabet to its corresponding ascii value\n",
        "\n",
        "  encoded_label = list()\n",
        "\n",
        "  for character in label:\n",
        "    encoded_character = 0\n",
        "\n",
        "    if character.isalpha():\n",
        "      if character.upper() == character: encoded_character = ord(character) - 64\n",
        "      elif character.lower() == character: encoded_character = ord(character) - 70\n",
        "\n",
        "    else:\n",
        "      print(\"WHOOPS!\")\n",
        "\n",
        "    encoded_label.append(encoded_character)\n",
        "  return encoded_label\n",
        "\n",
        "def decode_label(array):\n",
        "  # exact opposite of encode lables, it converts ascii characters to alphabets\n",
        "  decoded_word = \"\"\n",
        "  for idx in array:\n",
        "    idx = int(idx)\n",
        "    decoded_char = \"&\"\n",
        "    if idx == 0: decoded_char = \"_\"\n",
        "    elif idx <= 26: decoded_char = chr(idx+64)\n",
        "    elif idx <= 52: decoded_char = chr(idx+70)\n",
        "    decoded_word = decoded_word + decoded_char\n",
        "  return decoded_word\n",
        "\n",
        "\n",
        "def pad_label(label):\n",
        "  #pad the labels to the max length of 9 to ensure every lable has the same length\n",
        "  pad_len = MAX_LABEL_LENGTH - len(label)\n",
        "  padding = [0] * pad_len\n",
        "  padded_label = label + padding\n",
        "  return padded_label"
      ],
      "metadata": {
        "id": "sX-aFT5CH-8K"
      },
      "execution_count": 33,
      "outputs": []
    },
    {
      "cell_type": "code",
      "source": [
        "path, label = raw[0]\n",
        "array = path.split(\"-\")\n",
        "subfolder = array[0] + \"-\" + array[1]\n",
        "base_path = \"/content/dataset/iam_words/words/\"\n",
        "new_path = array[0] + \"/\" + subfolder + \"/\" +path + \".png\"\n",
        "print(\"Path of the example image: \", new_path)\n",
        "\n",
        "encoded = encode_label(label)\n",
        "padded = pad_label(encoded)\n",
        "print(\"Encoded lable of the example image: \", padded)\n",
        "\n",
        "img = cv2.imread(base_path+new_path, cv2.IMREAD_GRAYSCALE)\n",
        "img = cv2.resize(img, (128, 32))\n",
        "print(\"Example Image:\")\n",
        "plt.imshow(img, cmap='gray')\n"
      ],
      "metadata": {
        "colab": {
          "base_uri": "https://localhost:8080/",
          "height": 257
        },
        "id": "sS1vMfsVkTvN",
        "outputId": "076a1eb8-7610-4d93-d790-12f5910e7f7d"
      },
      "execution_count": 34,
      "outputs": [
        {
          "output_type": "stream",
          "name": "stdout",
          "text": [
            "Path of the example image:  a01/a01-000u/a01-000u-00-01.png\n",
            "Encoded lable of the example image:  [13, 15, 22, 5, 0, 0, 0, 0, 0]\n",
            "Example Image:\n"
          ]
        },
        {
          "output_type": "execute_result",
          "data": {
            "text/plain": [
              "<matplotlib.image.AxesImage at 0x78cd283a9c00>"
            ]
          },
          "metadata": {},
          "execution_count": 34
        },
        {
          "output_type": "display_data",
          "data": {
            "text/plain": [
              "<Figure size 640x480 with 1 Axes>"
            ],
            "image/png": "[encoded data removed]"
          },
          "metadata": {}
        }
      ]
    },
    {
      "cell_type": "code",
      "source": [
        "def remove_duplicates(list_of_substrings):\n",
        "  ans = list()\n",
        "\n",
        "  for substring in list_of_substrings:\n",
        "    unique_substring = \"\"\n",
        "    for i in range(len(substring)):\n",
        "      if i==0: unique_substring = unique_substring + substring[i]\n",
        "      elif substring[i-1] != substring[i]: unique_substring = unique_substring + substring[i]\n",
        "    ans.append(unique_substring)\n",
        "\n",
        "  return ans\n",
        "\n",
        "\n",
        "def decode_labels(outputs):\n",
        "  ans = list()\n",
        "\n",
        "  for pred in outputs:\n",
        "    decoded_word = decode_label(pred)\n",
        "    list_of_substrings = decoded_word.split(\"&\")\n",
        "    list_of_unique_substrings = remove_duplicates(list_of_substrings)\n",
        "    decoded_word = \"\".join(list_of_unique_substrings)\n",
        "\n",
        "    for i, char in enumerate(decoded_word):\n",
        "      if char == \"_\": continue\n",
        "      decoded_word = decoded_word[i:]\n",
        "      break\n",
        "    decoded_word = decoded_word.split(\"_\")[0]\n",
        "\n",
        "    ans.append(decoded_word)\n",
        "\n",
        "  return ans\n",
        "\n",
        "def decode_truths(outputs):\n",
        "  ans = list()\n",
        "\n",
        "  for pred in outputs:\n",
        "    decoded_word = decode_label(pred)\n",
        "    decoded_word = decoded_word.split(\"_\")[0]\n",
        "    ans.append(decoded_word)\n",
        "\n",
        "  return ans\n",
        "\n",
        "def similar(a, b):\n",
        "  return SequenceMatcher(None, a, b).ratio()"
      ],
      "metadata": {
        "id": "wvYP9GvVR_Dl"
      },
      "execution_count": 39,
      "outputs": []
    },
    {
      "cell_type": "code",
      "source": [
        "dataset = list()\n",
        "base_path = \"/content/dataset/iam_words/words/\"\n",
        "\n",
        "for example in raw:\n",
        "  path, label = example\n",
        "  array = path.split(\"-\")\n",
        "  subfolder = array[0] + \"-\" + array[1]\n",
        "  new_path = array[0] + \"/\" + subfolder + \"/\" +path + \".png\"\n",
        "\n",
        "  img = cv2.imread(base_path+new_path, cv2.IMREAD_GRAYSCALE)\n",
        "  if img is None: continue\n",
        "  img = cv2.resize(img, (128, 32))\n",
        "  img = torch.Tensor(img)\n",
        "  img = img.to(device)\n",
        "\n",
        "  encoded = encode_label(label)\n",
        "  padded = pad_label(encoded)\n",
        "  padded = torch.Tensor(padded)\n",
        "  padded = padded.to(device)\n",
        "\n",
        "  dataset.append((img, padded))"
      ],
      "metadata": {
        "id": "sNc01ZcFLBpj"
      },
      "execution_count": 36,
      "outputs": []
    },
    {
      "cell_type": "code",
      "source": [
        "dataset_length = len(dataset)\n",
        "train_data_length = int(0.90*dataset_length)\n",
        "valid_data_length = int(0.05*dataset_length)\n",
        "test_data_length = dataset_length - train_data_length - valid_data_length\n",
        "\n",
        "train_data, valid_data, test_data = torch.utils.data.random_split(dataset, [train_data_length, valid_data_length, test_data_length])"
      ],
      "metadata": {
        "id": "Y1A4jRVYWoBb"
      },
      "execution_count": 37,
      "outputs": []
    },
    {
      "cell_type": "markdown",
      "source": [
        "#### Model Building\n"
      ],
      "metadata": {
        "id": "w4pMbViwc9lV"
      }
    },
    {
      "cell_type": "code",
      "source": [
        "class HandwritingRecogCRNN_new(nn.Module):\n",
        "    def __init__(self):\n",
        "        super(HandwritingRecogCRNN_new, self).__init__()\n",
        "        self.name = \"handwriting_recog_correct\"\n",
        "        self.conv1 = nn.Conv2d(1, 64, 3, padding = 1)\n",
        "        self.pool = nn.MaxPool2d(2, 2)\n",
        "        self.conv2 = nn.Conv2d(64, 128, 3, padding = 1)\n",
        "\n",
        "        self.conv3 = nn.Conv2d(128, 256, 3, padding = 1)\n",
        "\n",
        "        self.conv4 = nn.Conv2d(256, 256, 3, padding = 1)\n",
        "        self.pool2 = nn.MaxPool2d((2,1))\n",
        "        self.conv5 = nn.Conv2d(256, 512, 3, padding = 1)\n",
        "        self.batch_norm = nn.BatchNorm2d(512)\n",
        "        self.conv6 = nn.Conv2d(512, 512, 3, padding = 1)\n",
        "        self.batch_norm2 = nn.BatchNorm2d(512)\n",
        "        self.conv7 = nn.Conv2d(512, 512, 2)\n",
        "        self.bidirection_lstm = nn.LSTM(input_size = 512, hidden_size = 128, num_layers= 2, bidirectional = True, dropout = 0.2)\n",
        "        self.rnn1 = nn.GRU(input_size=512,\n",
        "                            hidden_size=256,\n",
        "                            bidirectional=True,\n",
        "                            batch_first=True)\n",
        "        self.fc1 = nn.Linear(256, 54)\n",
        "\n",
        "    def forward(self, x):\n",
        "        x = x.float().unsqueeze(dim=1)\n",
        "        # x = x.squeeze(2)\n",
        "        x = self.pool(F.relu(self.conv1(x)))\n",
        "        x = self.pool(F.relu(self.conv2(x)))\n",
        "        x = F.relu(self.conv3(x))\n",
        "        x = self.pool2(F.relu(self.conv4(x)))\n",
        "        x = F.relu(self.conv5(x))\n",
        "        x = self.batch_norm(x)\n",
        "        x = F.relu(self.conv6(x))\n",
        "        x = self.pool2(self.batch_norm2(x))\n",
        "        x = F.relu(self.conv7(x))\n",
        "        x = x.squeeze()\n",
        "        x = torch.transpose(x, 1, 2)\n",
        "\n",
        "        x, _ = self.bidirection_lstm(x)\n",
        "\n",
        "        # # x = x.view(-1, 10 * 53 * 53)\n",
        "        x = F.log_softmax(self.fc1(x))\n",
        "        return x"
      ],
      "metadata": {
        "id": "YCYHnSytc_yG"
      },
      "execution_count": 21,
      "outputs": []
    },
    {
      "cell_type": "code",
      "execution_count": 22,
      "metadata": {
        "id": "fgx6Zv25oOwD"
      },
      "outputs": [],
      "source": [
        "# Baseline model that can classify images to different labels\n",
        "class HandwrittenClassifierBaseline(nn.Module):\n",
        "    def __init__(self):\n",
        "        super(HandwrittenClassifierBaseline, self).__init__()\n",
        "        self.name = \"handwritten_classifier\"\n",
        "        self.conv1 = nn.Conv2d(1, 10, 5)\n",
        "        self.pool = nn.MaxPool2d(2, 2)\n",
        "        self.conv2 = nn.Conv2d(10, 50, 5)\n",
        "        self.fc1 = nn.Linear(50 * 5 * 29, 30)\n",
        "        self.fc2 = nn.Linear(30, 12)\n",
        "\n",
        "    def forward(self, x):\n",
        "        x = self.pool(F.relu(self.conv1(x)))\n",
        "        x = self.pool(F.relu(self.conv2(x)))\n",
        "        x = x.view(-1, 50 * 5 * 29)\n",
        "        x = F.relu(self.fc1(x))\n",
        "        x = self.fc2(x)\n",
        "        x = x.squeeze(1) # Flatten to [batch_size]\n",
        "        return x"
      ]
    },
    {
      "cell_type": "markdown",
      "metadata": {
        "id": "4NUNCPJ9nyRj"
      },
      "source": [
        "#### Model Training Helper Functions"
      ]
    },
    {
      "cell_type": "code",
      "source": [
        "def get_data_loader(batch_size=64):\n",
        "  train_loader = torch.utils.data.DataLoader(dataset=train_data, batch_size=batch_size, shuffle=True)\n",
        "  valid_loader = torch.utils.data.DataLoader(dataset=valid_data, batch_size=batch_size, shuffle=True)\n",
        "  testr_loader = torch.utils.data.DataLoader(dataset=test_data, batch_size=batch_size, shuffle=True)\n",
        "\n",
        "  return train_loader, valid_loader, testr_loader\n",
        "\n",
        "def get_model_name(name, batch_size, learning_rate, epoch):\n",
        "  path = \"model_{0}_bs{1}_lr{2}_epoch{3}\".format(name, batch_size, learning_rate, epoch)\n",
        "  return path"
      ],
      "metadata": {
        "id": "qe9gH5xOkp0q"
      },
      "execution_count": 24,
      "outputs": []
    },
    {
      "cell_type": "code",
      "source": [
        "def evaluate(net, loader, criterion, batch_size=64):\n",
        "    total_loss = 0.0\n",
        "    total_epoch = 0\n",
        "    for i, data in enumerate(loader, 0):\n",
        "        inputs, labels = data\n",
        "\n",
        "        inputs = inputs.to(device)\n",
        "        labels = labels.to(device)\n",
        "\n",
        "        outputs = net(inputs)\n",
        "        outputs = torch.transpose(outputs, 0, 1)\n",
        "        input_lengths = torch.IntTensor([outputs.size(0)] * outputs.size(1))\n",
        "        target_lengths = torch.IntTensor([len(i) for i in labels])\n",
        "        loss = criterion(outputs, labels, input_lengths, target_lengths)\n",
        "        total_loss += loss.item()\n",
        "        total_epoch += len(labels)\n",
        "    loss = float(total_loss) / (i + 1)\n",
        "    return loss\n",
        "\n",
        "def plot_training_curve(path):\n",
        "    train_loss = np.loadtxt(\"{}_train_loss.csv\".format(path))\n",
        "    val_loss = np.loadtxt(\"{}_val_loss.csv\".format(path))\n",
        "    plt.title(\"Train vs Validation Error\")\n",
        "    n = len(train_loss)\n",
        "\n",
        "    plt.title(\"Train vs Validation Loss\")\n",
        "    plt.plot(range(1,n+1), train_loss, label=\"Train\")\n",
        "    plt.plot(range(1,n+1), val_loss, label=\"Validation\")\n",
        "    plt.xlabel(\"Epoch\")\n",
        "    plt.ylabel(\"Loss\")\n",
        "    plt.legend(loc='best')\n",
        "    plt.show()\n",
        "\n",
        "from torch.nn.modules.loss import SmoothL1Loss\n",
        "\n",
        "def get_accuracy(model, data):\n",
        "    threshold = math.log(0.0005)\n",
        "    correct, total = 0, 0\n",
        "    for images, labels in data:\n",
        "        images = images.to(device)\n",
        "        labels = labels.to(device)\n",
        "        output = model(images)\n",
        "        max_val, max_idx = torch.max(output,2)\n",
        "        for j in range(len(output)):\n",
        "          val = max_val[j]\n",
        "          idx = max_idx[j]\n",
        "          for i in range(len(val)):\n",
        "              if val[i] < threshold:\n",
        "                idx[i] = 0\n",
        "          max_idx[j] = idx\n",
        "        prediction = decode_labels(max_idx)\n",
        "\n",
        "        truth = decode_truths(labels)\n",
        "        for i in range(len(prediction)):\n",
        "          # print(\"prediction: \", prediction[i], \"   ground truth: \", truth[i])\n",
        "          correct += similar(prediction[i], truth[i])\n",
        "          total += 1\n",
        "    return correct / total"
      ],
      "metadata": {
        "id": "il3DwPlmkx38"
      },
      "execution_count": 25,
      "outputs": []
    },
    {
      "cell_type": "code",
      "source": [
        "def load_pretrained_model(num_epochs, batch_size=64, learning_rate=0.01):\n",
        "  state = torch.load(\"/content/model_handwriting_recog_correct_bs\"+str(batch_size)+\"_lr\"+str(learning_rate)+\"_epoch\"+str(num_epochs-1))\n",
        "  new_model = HandwritingRecogCRNN_new()\n",
        "  new_model.load_state_dict(state)\n",
        "  new_model.to(device)\n",
        "  return new_model"
      ],
      "metadata": {
        "id": "DTbtOQ1-iQ6B"
      },
      "execution_count": 26,
      "outputs": []
    },
    {
      "cell_type": "code",
      "source": [
        "def train_net(net, batch_size=64, learning_rate=0.01, num_epochs=30):\n",
        "\n",
        "    torch.manual_seed(1000)\n",
        "    train_loader, val_loader, test_loader = get_data_loader(batch_size)\n",
        "    criterion = nn.CTCLoss(blank=53, zero_infinity=True)\n",
        "    optimizer = optim.SGD(net.parameters(), lr=learning_rate, momentum=0.9)\n",
        "    train_loss = np.zeros(num_epochs)\n",
        "    val_loss = np.zeros(num_epochs)\n",
        "    train_acc, valid_acc = [], []\n",
        "    start_time = time.time()\n",
        "\n",
        "    for epoch in range(num_epochs):\n",
        "        total_train_loss = 0.0\n",
        "        total_epoch = 0\n",
        "        for i, data in enumerate(train_loader, 0):\n",
        "            inputs, labels = data\n",
        "\n",
        "            inputs = inputs.to(device)\n",
        "            labels = labels.to(device)\n",
        "\n",
        "            optimizer.zero_grad()\n",
        "            outputs = net(inputs)\n",
        "            outputs = torch.transpose(outputs, 0, 1)\n",
        "\n",
        "            input_lengths = torch.IntTensor([outputs.size(0)] * outputs.size(1))\n",
        "            target_lengths = torch.IntTensor([len(i) for i in labels])\n",
        "            loss = criterion(outputs, labels, input_lengths, target_lengths)\n",
        "            loss.backward()\n",
        "            optimizer.step()\n",
        "            loss_item = loss.item()\n",
        "            total_train_loss += loss_item\n",
        "            total_epoch += len(labels)\n",
        "\n",
        "        train_loss[epoch] = float(total_train_loss) / (i+1)\n",
        "        val_loss[epoch] = evaluate(net, val_loader, criterion, batch_size)\n",
        "        train_acc.append(get_accuracy(net, train_loader))\n",
        "        valid_acc.append(get_accuracy(net, val_loader))\n",
        "        print((\"Epoch {}: Train loss: {}, Train acc: {} |\"+\n",
        "               \"Validation loss: {}, Validation acc: {}\").format(\n",
        "                   epoch + 1,\n",
        "                   train_loss[epoch],\n",
        "                   train_acc[-1],\n",
        "                  # 0,\n",
        "                   val_loss[epoch],\n",
        "                   valid_acc[-1]\n",
        "                  # 0\n",
        "                  ))\n",
        "        model_path = get_model_name(net.name, batch_size, learning_rate, epoch)\n",
        "        torch.save(net.state_dict(), model_path)\n",
        "        #lr_scheduler.step(train_loss[epoch])\n",
        "\n",
        "    print('Finished Training')\n",
        "    end_time = time.time()\n",
        "    elapsed_time = end_time - start_time\n",
        "    print(\"Total time elapsed: {:.2f} seconds\".format(elapsed_time))\n",
        "    epochs = np.arange(1, num_epochs + 1)\n",
        "    np.savetxt(\"{}_train_loss.csv\".format(model_path), train_loss)\n",
        "    np.savetxt(\"{}_val_loss.csv\".format(model_path), val_loss)"
      ],
      "metadata": {
        "id": "2iTqqgUcd2Jx"
      },
      "execution_count": 27,
      "outputs": []
    },
    {
      "cell_type": "code",
      "source": [
        "# Example to start training model:\n",
        "\n",
        "model = HandwritingRecogCRNN_new()\n",
        "model = model.to(device)\n",
        "train_net(net = model, batch_size=64, learning_rate=0.001, num_epochs=10)"
      ],
      "metadata": {
        "colab": {
          "base_uri": "https://localhost:8080/"
        },
        "id": "_uqsd-XmbYAV",
        "outputId": "04d15ad3-f00f-4992-da7d-bb79e284b1d2"
      },
      "execution_count": 40,
      "outputs": [
        {
          "output_type": "stream",
          "name": "stderr",
          "text": [
            "<ipython-input-21-899a9c504234>:43: UserWarning: Implicit dimension choice for log_softmax has been deprecated. Change the call to include dim=X as an argument.\n",
            "  x = F.log_softmax(self.fc1(x))\n"
          ]
        },
        {
          "output_type": "stream",
          "name": "stdout",
          "text": [
            "Epoch 1: Train loss: 11.637594493482844, Train acc: 0.08820082919254592 |Validation loss: 11.273288798332214, Validation acc: 0.08742205711879115\n",
            "Epoch 2: Train loss: 11.494970208303087, Train acc: 0.10110304677249468 |Validation loss: 11.139177751541137, Validation acc: 0.10020101833089747\n",
            "Epoch 3: Train loss: 11.299433347333029, Train acc: 0.13827529351888615 |Validation loss: 10.937200784683228, Validation acc: 0.1395120226188611\n",
            "Epoch 4: Train loss: 11.122697469105438, Train acc: 0.17225352998311824 |Validation loss: 10.788286328315735, Validation acc: 0.17781024533082695\n",
            "Epoch 5: Train loss: 10.992397511108763, Train acc: 0.16734695458548576 |Validation loss: 10.689129376411438, Validation acc: 0.17251632515535276\n",
            "Epoch 6: Train loss: 10.89396577784953, Train acc: 0.1707167547946649 |Validation loss: 10.58661346435547, Validation acc: 0.17347455826676955\n",
            "Epoch 7: Train loss: 10.820117026050657, Train acc: 0.18043366587001664 |Validation loss: 10.53924651145935, Validation acc: 0.17864623894361686\n",
            "Epoch 8: Train loss: 10.76077696353714, Train acc: 0.19134866224520766 |Validation loss: 10.473259973526002, Validation acc: 0.1874856102213995\n",
            "Epoch 9: Train loss: 10.712761522028488, Train acc: 0.21565712568593806 |Validation loss: 10.431081748008728, Validation acc: 0.21314577076929805\n",
            "Epoch 10: Train loss: 10.666979430038804, Train acc: 0.23348951358005435 |Validation loss: 10.374683690071105, Validation acc: 0.23315546146270757\n",
            "Finished Training\n",
            "Total time elapsed: 673.18 seconds\n"
          ]
        }
      ]
    }
  ],
  "metadata": {
    "accelerator": "GPU",
    "colab": {
      "provenance": [],
      "gpuType": "T4"
    },
    "kernelspec": {
      "display_name": "Python 3",
      "name": "python3"
    },
    "language_info": {
      "name": "python"
    }
  },
  "nbformat": 4,
  "nbformat_minor": 0
}